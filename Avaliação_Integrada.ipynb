{
  "cells": [
    {
      "cell_type": "markdown",
      "metadata": {
        "id": "uTeMTV6yvnmh"
      },
      "source": [
        "Parte 1: LOPAL\n",
        "\n",
        "Contextualização:\n",
        "\n",
        "Imagine que você tem 5 servidores em diferentes regiões da AWS, e está monitorando o uso de CPU de cada um a cada hora. Você coleta esses dados por 10 horas seguidas. O resultado pode ser representado como uma matriz:\n",
        "\n",
        "Linhas: cada linha representa um registro de tempo (por exemplo, hora 1 até hora 10)\n",
        "Colunas: cada coluna representa um servidor ou região diferente\n",
        "Utilizando esse conceito desenvolva as próximas questões.\n",
        "\n",
        " Considerando a matriz abaixo, crie um laço for para calcular a média de uso de CPU por linha e imprima os resultados com 2 casas decimais."
      ]
    },
    {
      "cell_type": "code",
      "execution_count": null,
      "metadata": {
        "colab": {
          "base_uri": "https://localhost:8080/"
        },
        "id": "6v6vgZ5rwbu-",
        "outputId": "fc95052e-829f-4606-c05a-413f7fc7a8fc"
      },
      "outputs": [
        {
          "name": "stdout",
          "output_type": "stream",
          "text": [
            "Média de uso de CPU: 46.50\n",
            "Média de uso de CPU: 48.00\n",
            "Média de uso de CPU: 37.50\n",
            "Média de uso de CPU: 43.00\n"
          ]
        }
      ],
      "source": [
        "uso_cpu = [\n",
        "    [20, 25, 40, 50, 45, 60, 55, 35, 70, 65],\n",
        "    [30, 35, 50, 60, 40, 55, 60, 45, 50, 55],\n",
        "    [15, 20, 30, 25, 35, 40, 45, 50, 55, 60],\n",
        "    [10, 15, 25, 35, 45, 50, 55, 60, 65, 70],\n",
        "]\n",
        "\n",
        "for contador in uso_cpu:\n",
        "    media = sum(contador) / len(contador)\n",
        "    print(f\"Média de uso de CPU: {media:.2f}\")\n"
      ]
    },
    {
      "cell_type": "markdown",
      "metadata": {
        "id": "ft3FM0-zyk5T"
      },
      "source": [
        "Crie uma função chamada alerta_uso que recebe como parâmetro uma lista com os valores de uso de CPU de uma região. A função deve retornar True se algum valor ultrapassar 85% de uso, e False caso contrário. Teste a função para todas as regiões da matriz."
      ]
    },
    {
      "cell_type": "code",
      "execution_count": null,
      "metadata": {
        "colab": {
          "base_uri": "https://localhost:8080/"
        },
        "id": "dl3vWPBQyn1P",
        "outputId": "c9e5d727-4b17-46cb-d6da-6883adc5ab96"
      },
      "outputs": [
        {
          "name": "stdout",
          "output_type": "stream",
          "text": [
            "Região 1: Alerta\n",
            "Região 2: Sem alerta\n",
            "Região 3: Sem alerta\n",
            "Região 4: Alerta\n"
          ]
        }
      ],
      "source": [
        "def alerta_uso(uso_cpu):\n",
        "    for uso in uso_cpu:\n",
        "        if uso > 85:\n",
        "            return True\n",
        "    return False\n",
        "\n",
        "\n",
        "regioes = [\n",
        "    [75, 80, 90],\n",
        "    [60, 70, 80],\n",
        "    [50, 40, 85],\n",
        "    [90, 60, 80]\n",
        "]\n",
        "\n",
        "for i, regiao in enumerate(regioes):\n",
        "    resultado = alerta_uso(regiao)\n",
        "    print(f\"Região {i+1}: {'Alerta' if resultado else 'Sem alerta'}\")\n"
      ]
    },
    {
      "cell_type": "markdown",
      "metadata": {
        "id": "EkRqQIEaz4VF"
      },
      "source": [
        "Crie uma função chamada dados_crescente que recebe como parâmetro uma lista com os valores de uso de CPU de uma região. A função deve retornar a lista organizada em ordem crescente, do menor uso de CPU para o maior. Teste a função para todas as regiões da matriz"
      ]
    },
    {
      "cell_type": "code",
      "execution_count": null,
      "metadata": {
        "colab": {
          "base_uri": "https://localhost:8080/"
        },
        "id": "8zgqB5oFz5kS",
        "outputId": "eca15c34-872c-450b-853c-cc11633933cd"
      },
      "outputs": [
        {
          "name": "stdout",
          "output_type": "stream",
          "text": [
            "Região 1 (antes): [50, 80, 30, 60]\n",
            "Região 1 (ordenada): [30, 50, 60, 80]\n",
            "\n",
            "Região 2 (antes): [10, 20, 40, 90]\n",
            "Região 2 (ordenada): [10, 20, 40, 90]\n",
            "\n",
            "Região 3 (antes): [70, 60, 10, 30]\n",
            "Região 3 (ordenada): [10, 30, 60, 70]\n",
            "\n",
            "Região 4 (antes): [20, 50, 90, 40]\n",
            "Região 4 (ordenada): [20, 40, 50, 90]\n",
            "\n"
          ]
        }
      ],
      "source": [
        "def dados_crescente(lista_cpu):\n",
        "    return sorted(lista_cpu)\n",
        "\n",
        "matriz_cpu = [\n",
        "    [50, 80, 30, 60],\n",
        "    [10, 20, 40, 90],\n",
        "    [70, 60, 10, 30],\n",
        "    [20, 50, 90, 40]\n",
        "]\n",
        "\n",
        "for i, regiao in enumerate(matriz_cpu):\n",
        "    print(f\"Região {i+1} (antes): {regiao}\")\n",
        "    print(f\"Região {i+1} (ordenada): {dados_crescente(regiao)}\\n\")\n"
      ]
    },
    {
      "cell_type": "markdown",
      "metadata": {
        "id": "3l5OyIu-1HPR"
      },
      "source": [
        "Utilizando a biblioteca pandas, crie um DataFrame com os dados da matriz acima. Os nomes das linhas devem ser [\"hora_1\", \"hora_2\",..., \"hora_10\"] e as colunas representam as regiões [\"us-east-1\", \"us-west-2\", \"eu-central-1\", \"sa-east-1\", \" ap-southeast-1\"  ]."
      ]
    },
    {
      "cell_type": "code",
      "execution_count": null,
      "metadata": {
        "colab": {
          "base_uri": "https://localhost:8080/"
        },
        "id": "pmeBk3Hg0Tii",
        "outputId": "793ddfed-7db7-4fa2-ca7d-59c59e6b612d"
      },
      "outputs": [
        {
          "name": "stdout",
          "output_type": "stream",
          "text": [
            "         us-east-1  us-west-2  eu-central-1  sa-east-1  ap-southeast-1\n",
            "hora_1         100        200           150        180             220\n",
            "hora_2         110        210           160        190             230\n",
            "hora_3         120        220           170        200             240\n",
            "hora_4         130        230           180        210             250\n",
            "hora_5         140        240           190        220             260\n",
            "hora_6         150        250           200        230             270\n",
            "hora_7         160        260           210        240             280\n",
            "hora_8         170        270           220        250             290\n",
            "hora_9         180        280           230        260             300\n",
            "hora_10        190        290           240        270             310\n"
          ]
        }
      ],
      "source": [
        "import pandas as pd\n",
        "\n",
        "dados = [\n",
        "    [100, 200, 150, 180, 220],  # hora_1\n",
        "    [110, 210, 160, 190, 230],  # hora_2\n",
        "    [120, 220, 170, 200, 240],  # hora_3\n",
        "    [130, 230, 180, 210, 250],  # hora_4\n",
        "    [140, 240, 190, 220, 260],  # hora_5\n",
        "    [150, 250, 200, 230, 270],  # hora_6\n",
        "    [160, 260, 210, 240, 280],  # hora_7\n",
        "    [170, 270, 220, 250, 290],  # hora_8\n",
        "    [180, 280, 230, 260, 300],  # hora_9\n",
        "    [190, 290, 240, 270, 310]   # hora_10\n",
        "]\n",
        "\n",
        "linhas = [\"hora_1\", \"hora_2\", \"hora_3\", \"hora_4\", \"hora_5\", \"hora_6\", \"hora_7\", \"hora_8\", \"hora_9\", \"hora_10\"]\n",
        "colunas = [\"us-east-1\", \"us-west-2\", \"eu-central-1\", \"sa-east-1\", \"ap-southeast-1\"]\n",
        "\n",
        "df = pd.DataFrame(dados, index=linhas, columns=colunas)\n",
        "\n",
        "print(df)\n"
      ]
    },
    {
      "cell_type": "markdown",
      "metadata": {
        "id": "mU6Bitzx1Rd0"
      },
      "source": [
        "Dentre as questões anteriores escolha uma delas para fazer uma leve explicação do seu funcionamento."
      ]
    },
    {
      "cell_type": "markdown",
      "metadata": {
        "id": "FxIyuTiE119a"
      },
      "source": [
        "Escolhi a opção acima.\n",
        "Eu criei um DataFrame organizando os dados em uma matriz de listas, onde cada lista interna representa os valores para uma hora específica em cada região. Defini os nomes das linhas (\"hora_1\", \"hora_2\", ..., \"hora_10\") e das colunas (nomes das regiões). Depois, usei a função pd.DataFrame() para criar o DataFrame, passando a matriz de dados e os nomes das linhas e colunas."
      ]
    },
    {
      "cell_type": "markdown",
      "metadata": {
        "id": "2CY4riydKEsp"
      },
      "source": []
    },
    {
      "cell_type": "markdown",
      "metadata": {
        "id": "E5rWz1lkKGIQ"
      },
      "source": [
        "Na realidade atual das empresas de tecnologia e análise de dados, é comum que dados e aplicações estejam distribuídos em ambientes de nuvem. O uso de plataformas como a AWS permite escalabilidade, disponibilidade e segurança.\n",
        "\n",
        "\n",
        "Por sua vez, a linguagem Python é amplamente usada para: Automatizar tarefas administrativas, Processar grandes volumes de dados e Conectar aplicações locais a bancos de dados remotos\n",
        "\n",
        "\n",
        "A integração entre Python e AWS RDS permite que scripts sejam escritos para ler e gravar dados diretamente em bancos SQL na nuvem.\n",
        "\n",
        "A ABC Organization compra uma assinatura do Microsoft 365 para todos os seus funcionários. Qual modelo de serviço em nuvem a ABC Organization adotou?\n",
        "IAAS\n",
        "SAAS\n",
        "PAAS\n",
        "FAAS"
      ]
    },
    {
      "cell_type": "markdown",
      "metadata": {
        "id": "AF00w1DNKofi"
      },
      "source": [
        "SaaS."
      ]
    },
    {
      "cell_type": "markdown",
      "metadata": {
        "id": "hAX6QqEtKhdE"
      },
      "source": [
        "Qual modelo de serviço de nuvem as máquinas virtuais EC2 da AWS representam?\n",
        "IAAS\n",
        "SAAS\n",
        "PAAS\n",
        "FAAS"
      ]
    },
    {
      "cell_type": "code",
      "execution_count": null,
      "metadata": {
        "id": "PLLDpe5oW1d-"
      },
      "outputs": [],
      "source": []
    },
    {
      "cell_type": "code",
      "execution_count": 2,
      "metadata": {
        "colab": {
          "base_uri": "https://localhost:8080/"
        },
        "id": "Un4Oehk0XR8D",
        "outputId": "3b2a2142-6be5-4681-cf32-fb4b0b1394f5"
      },
      "outputs": [
        {
          "name": "stdout",
          "output_type": "stream",
          "text": [
            "Collecting mysql-connector-python\n",
            "  Downloading mysql_connector_python-9.3.0-cp311-cp311-manylinux_2_28_x86_64.whl.metadata (7.2 kB)\n",
            "Downloading mysql_connector_python-9.3.0-cp311-cp311-manylinux_2_28_x86_64.whl (33.9 MB)\n",
            "\u001b[2K   \u001b[90m━━━━━━━━━━━━━━━━━━━━━━━━━━━━━━━━━━━━━━━━\u001b[0m \u001b[32m33.9/33.9 MB\u001b[0m \u001b[31m21.9 MB/s\u001b[0m eta \u001b[36m0:00:00\u001b[0m\n",
            "\u001b[?25hInstalling collected packages: mysql-connector-python\n",
            "Successfully installed mysql-connector-python-9.3.0\n"
          ]
        }
      ],
      "source": [
        "!pip install mysql-connector-python"
      ]
    },
    {
      "cell_type": "code",
      "execution_count": 6,
      "metadata": {
        "id": "Ruj-zyiwX6pc"
      },
      "outputs": [],
      "source": [
        "import mysql.connector"
      ]
    },
    {
      "cell_type": "code",
      "execution_count": 7,
      "metadata": {
        "colab": {
          "base_uri": "https://localhost:8080/"
        },
        "id": "n0ob7fEsXf27",
        "outputId": "74b1f3f5-b427-4386-a27d-04fcc24b24ac"
      },
      "outputs": [
        {
          "name": "stdout",
          "output_type": "stream",
          "text": [
            "<mysql.connector.connection.MySQLConnection object at 0x7c5350517990>\n"
          ]
        }
      ],
      "source": [
        "import mysql.connector\n",
        "\n",
        "mydb = mysql.connector.connect(\n",
        "  host=\"database-1.c21fjnvngsvf.us-east-1.rds.amazonaws.com\",\n",
        "  user=\"admin\",\n",
        "  password=\"senai115\"\n",
        ")\n",
        "\n",
        "print(mydb)"
      ]
    },
    {
      "cell_type": "code",
      "execution_count": 9,
      "metadata": {
        "id": "bacVD5FuY0eR"
      },
      "outputs": [],
      "source": [
        "mycursor = mydb.cursor()\n",
        "\n",
        "mycursor.execute(\"CREATE DATABASE mydatabases\")"
      ]
    },
    {
      "cell_type": "code",
      "execution_count": 10,
      "metadata": {
        "colab": {
          "base_uri": "https://localhost:8080/"
        },
        "id": "2G0iVjFcY0bB",
        "outputId": "d1a2f229-b037-45e9-e364-a4165d444ebe"
      },
      "outputs": [
        {
          "name": "stdout",
          "output_type": "stream",
          "text": [
            "('information_schema',)\n",
            "('mydatabase',)\n",
            "('mydatabases',)\n",
            "('mysql',)\n",
            "('performance_schema',)\n",
            "('sys',)\n"
          ]
        }
      ],
      "source": [
        "mycursor = mydb.cursor()\n",
        "\n",
        "mycursor.execute(\"SHOW DATABASES\")\n",
        "\n",
        "for x in mycursor:\n",
        "  print(x)\n"
      ]
    },
    {
      "cell_type": "code",
      "execution_count": 12,
      "metadata": {
        "id": "1aJXJuxXY0Yq"
      },
      "outputs": [],
      "source": [
        "mydb = mysql.connector.connect(\n",
        "   host=\"database-1.c21fjnvngsvf.us-east-1.rds.amazonaws.com\",\n",
        "  user=\"admin\",\n",
        "  password=\"senai115\",\n",
        "  database=\"mydatabase\"\n",
        ")"
      ]
    },
    {
      "cell_type": "code",
      "execution_count": 13,
      "metadata": {
        "id": "IxhPrg6pY0Ph"
      },
      "outputs": [],
      "source": [
        "\n",
        "mycursor = mydb.cursor()\n",
        "\n",
        "mycursor.execute(\"CREATE TABLE customers (name VARCHAR(255), address VARCHAR(255))\")"
      ]
    },
    {
      "cell_type": "code",
      "execution_count": 14,
      "metadata": {
        "colab": {
          "base_uri": "https://localhost:8080/"
        },
        "id": "uxe1x15yYz7z",
        "outputId": "c5764587-d82e-4d4d-aafc-06811fa7ca82"
      },
      "outputs": [
        {
          "name": "stdout",
          "output_type": "stream",
          "text": [
            "('customers',)\n"
          ]
        }
      ],
      "source": [
        "mycursor = mydb.cursor()\n",
        "\n",
        "mycursor.execute(\"SHOW TABLES\")\n",
        "\n",
        "for x in mycursor:\n",
        "  print(x)"
      ]
    },
    {
      "cell_type": "code",
      "execution_count": 16,
      "metadata": {
        "id": "Zw1XSqDyZaaC"
      },
      "outputs": [],
      "source": [
        "mycursor = mydb.cursor()\n",
        "\n",
        "mycursor.execute(\"CREATE TABLE inteiro (name VARCHAR(255))\")"
      ]
    },
    {
      "cell_type": "code",
      "execution_count": 17,
      "metadata": {
        "colab": {
          "base_uri": "https://localhost:8080/"
        },
        "id": "vOs48yKZZwt6",
        "outputId": "47628273-f9fe-486c-c3c4-a3e62660d8f9"
      },
      "outputs": [
        {
          "name": "stdout",
          "output_type": "stream",
          "text": [
            "('customers',)\n",
            "('inteiro',)\n"
          ]
        }
      ],
      "source": [
        "mycursor = mydb.cursor()\n",
        "\n",
        "mycursor.execute(\"SHOW TABLES\")\n",
        "\n",
        "for x in mycursor:\n",
        "  print(x)"
      ]
    },
    {
      "cell_type": "markdown",
      "metadata": {
        "id": "BspC47MYK4Fl"
      },
      "source": [
        "IaaS."
      ]
    }
  ],
  "metadata": {
    "colab": {
      "provenance": []
    },
    "kernelspec": {
      "display_name": "Python 3",
      "name": "python3"
    },
    "language_info": {
      "name": "python",
      "version": "3.13.2"
    }
  },
  "nbformat": 4,
  "nbformat_minor": 0
}
